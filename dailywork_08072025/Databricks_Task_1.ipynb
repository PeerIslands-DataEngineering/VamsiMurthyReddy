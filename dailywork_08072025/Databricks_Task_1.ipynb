{
 "cells": [
  {
   "cell_type": "code",
   "execution_count": 0,
   "metadata": {
    "application/vnd.databricks.v1+cell": {
     "cellMetadata": {
      "byteLimit": 2048000,
      "rowLimit": 10000
     },
     "inputWidgets": {},
     "nuid": "df64e191-2e1e-4031-94b4-20ff6686da32",
     "showTitle": false,
     "tableResultSettingsMap": {},
     "title": ""
    }
   },
   "outputs": [],
   "source": [
    "from delta.tables import *"
   ]
  },
  {
   "cell_type": "code",
   "execution_count": 0,
   "metadata": {
    "application/vnd.databricks.v1+cell": {
     "cellMetadata": {
      "byteLimit": 2048000,
      "rowLimit": 10000
     },
     "inputWidgets": {},
     "nuid": "928f5333-85e4-4e8d-aa93-ce31e79930c0",
     "showTitle": false,
     "tableResultSettingsMap": {},
     "title": ""
    }
   },
   "outputs": [],
   "source": [
    "data = [\n",
    "    (\"P001\", \"Laptop\", \"Electronics\", 999.99),\n",
    "    (\"P002\", \"Smartphone\", \"Electronics\", 499.99),\n",
    "    (\"P003\", \"T-Shirt\", \"Clothing\", 29.99)\n",
    "]\n",
    "cols = [\"product_id\", \"name\", \"category\", \"price\"]\n",
    "df = spark.createDataFrame(data, cols)\n",
    "df.write.format(\"delta\").mode(\"overwrite\").saveAsTable(\"default.products\")\n"
   ]
  },
  {
   "cell_type": "code",
   "execution_count": 0,
   "metadata": {
    "application/vnd.databricks.v1+cell": {
     "cellMetadata": {
      "byteLimit": 2048000,
      "rowLimit": 10000
     },
     "inputWidgets": {},
     "nuid": "b65c0780-98a1-4088-8191-14bf300e7f8a",
     "showTitle": false,
     "tableResultSettingsMap": {},
     "title": ""
    }
   },
   "outputs": [
    {
     "output_type": "stream",
     "name": "stdout",
     "output_type": "stream",
     "text": [
      "+----------+----------+-----------+------+--------+\n|product_id|      name|   category| price|discount|\n+----------+----------+-----------+------+--------+\n|      P001|    Laptop|Electronics|999.99|    NULL|\n|      P002|Smartphone|Electronics|499.99|    NULL|\n|      P003|   T-Shirt|   Clothing| 29.99|    NULL|\n+----------+----------+-----------+------+--------+\n\n"
     ]
    }
   ],
   "source": [
    "spark.sql(\"select * from default.products\").show()"
   ]
  },
  {
   "cell_type": "code",
   "execution_count": 0,
   "metadata": {
    "application/vnd.databricks.v1+cell": {
     "cellMetadata": {
      "byteLimit": 2048000,
      "rowLimit": 10000
     },
     "inputWidgets": {},
     "nuid": "7fc81c38-4a14-49ed-8881-cc250f926395",
     "showTitle": false,
     "tableResultSettingsMap": {},
     "title": ""
    }
   },
   "outputs": [],
   "source": [
    "data_new = [\n",
    "    (\"P001\", \"Laptop\", \"Electronics\", 1099.99, 50.0),\n",
    "    (\"P004\", \"Headphones\", \"Electronics\", 149.99, 10.0),\n",
    "    (\"P005\", \"Jeans\", \"Clothing\", 59.99, 5.0)\n",
    "]\n",
    "cols_new = [\"product_id\", \"name\", \"category\", \"price\", \"discount\"]\n",
    "\n",
    "df_new = spark.createDataFrame(data_new, cols_new)\n",
    "\n"
   ]
  },
  {
   "cell_type": "code",
   "execution_count": 0,
   "metadata": {
    "application/vnd.databricks.v1+cell": {
     "cellMetadata": {
      "byteLimit": 2048000,
      "rowLimit": 10000
     },
     "inputWidgets": {},
     "nuid": "3271fabc-51d7-41c1-a5af-ce86528719ed",
     "showTitle": false,
     "tableResultSettingsMap": {},
     "title": ""
    }
   },
   "outputs": [],
   "source": [
    "df_new.limit(0).write.format(\"delta\").mode(\"append\").option(\"mergeSchema\", \"true\").saveAsTable(\"default.products\")\n"
   ]
  },
  {
   "cell_type": "code",
   "execution_count": 0,
   "metadata": {
    "application/vnd.databricks.v1+cell": {
     "cellMetadata": {
      "byteLimit": 2048000,
      "rowLimit": 10000
     },
     "inputWidgets": {},
     "nuid": "0e057fb2-773f-4658-9216-d9b0a3e32d00",
     "showTitle": false,
     "tableResultSettingsMap": {},
     "title": ""
    }
   },
   "outputs": [
    {
     "output_type": "stream",
     "name": "stdout",
     "output_type": "stream",
     "text": [
      "+----------+----------+-----------+-------+--------+\n|product_id|      name|   category|  price|discount|\n+----------+----------+-----------+-------+--------+\n|      P001|    Laptop|Electronics|1099.99|    50.0|\n|      P004|Headphones|Electronics| 149.99|    10.0|\n|      P005|     Jeans|   Clothing|  59.99|     5.0|\n+----------+----------+-----------+-------+--------+\n\n"
     ]
    }
   ],
   "source": [
    "spark.sql(\"select * from default.products_new\").show()"
   ]
  },
  {
   "cell_type": "code",
   "execution_count": 0,
   "metadata": {
    "application/vnd.databricks.v1+cell": {
     "cellMetadata": {
      "byteLimit": 2048000,
      "rowLimit": 10000
     },
     "inputWidgets": {},
     "nuid": "cbeea873-ee7d-4607-ac54-965dd8e74946",
     "showTitle": false,
     "tableResultSettingsMap": {},
     "title": ""
    }
   },
   "outputs": [],
   "source": [
    "delta_table = DeltaTable.forName(spark,\"workspace.default.products\")\n"
   ]
  },
  {
   "cell_type": "code",
   "execution_count": 0,
   "metadata": {
    "application/vnd.databricks.v1+cell": {
     "cellMetadata": {
      "byteLimit": 2048000,
      "rowLimit": 10000
     },
     "inputWidgets": {},
     "nuid": "f349b649-2a98-4737-8a05-de41cf57ab50",
     "showTitle": false,
     "tableResultSettingsMap": {},
     "title": ""
    }
   },
   "outputs": [
    {
     "output_type": "execute_result",
     "data": {
      "text/plain": [
       "DataFrame[num_affected_rows: bigint, num_updated_rows: bigint, num_deleted_rows: bigint, num_inserted_rows: bigint]"
      ]
     },
     "execution_count": 11,
     "metadata": {},
     "output_type": "execute_result"
    }
   ],
   "source": [
    "delta_table.alias(\"target\").merge(df_new.alias(\"source\"), \"target.product_id = source.product_id\").whenMatchedUpdate(set = {\"price\": \"source.price\", \"discount\": \"source.discount\"}).whenNotMatchedInsert(values = {\"product_id\": \"source.product_id\", \"name\": \"source.name\", \"category\": \"source.category\", \"price\": \"source.price\", \"discount\": \"source.discount\"}).execute()"
   ]
  },
  {
   "cell_type": "code",
   "execution_count": 0,
   "metadata": {
    "application/vnd.databricks.v1+cell": {
     "cellMetadata": {
      "byteLimit": 2048000,
      "rowLimit": 10000
     },
     "inputWidgets": {},
     "nuid": "04d3cd14-072d-45ac-ae3f-6e2dda3e996b",
     "showTitle": false,
     "tableResultSettingsMap": {},
     "title": ""
    }
   },
   "outputs": [
    {
     "output_type": "stream",
     "name": "stdout",
     "output_type": "stream",
     "text": [
      "+-------+-------------------+--------------+-----------------------+---------------------------------+--------------------------------------------------------------------------------------------------------------------------------------------------------------------------------------------------------------------------------------+----+--------+------------------------+-----------+-----------------+-------------+----------------------------------------------------------------------------------------------------------------------------------------------------------------------------------------------------------------------------------------------------------------------------------------------------------------------------------------------------------------------------------------------------------------------------------------------------------------------------------------------------------------------------------------------------------------------------------------------------------------------------------------------------------------------------------------+------------+--------------------------------------------------+\n|version|timestamp          |userId        |userName               |operation                        |operationParameters                                                                                                                                                                                                                   |job |notebook|clusterId               |readVersion|isolationLevel   |isBlindAppend|operationMetrics                                                                                                                                                                                                                                                                                                                                                                                                                                                                                                                                                                                                                                                                        |userMetadata|engineInfo                                        |\n+-------+-------------------+--------------+-----------------------+---------------------------------+--------------------------------------------------------------------------------------------------------------------------------------------------------------------------------------------------------------------------------------+----+--------+------------------------+-----------+-----------------+-------------+----------------------------------------------------------------------------------------------------------------------------------------------------------------------------------------------------------------------------------------------------------------------------------------------------------------------------------------------------------------------------------------------------------------------------------------------------------------------------------------------------------------------------------------------------------------------------------------------------------------------------------------------------------------------------------------+------------+--------------------------------------------------+\n|10     |2025-07-08 17:45:33|76581437174120|vamsimurthy27@gmail.com|OPTIMIZE                         |{predicate -> [], auto -> true, clusterBy -> [], zOrderBy -> [], batchId -> 0}                                                                                                                                                        |NULL|NULL    |0708-174450-lwm5m2po-v2n|9          |SnapshotIsolation|false        |{numRemovedFiles -> 4, numRemovedBytes -> 5739, p25FileSize -> 1628, numDeletionVectorsRemoved -> 1, minFileSize -> 1628, numAddedFiles -> 1, maxFileSize -> 1628, p75FileSize -> 1628, p50FileSize -> 1628, numAddedBytes -> 1628}                                                                                                                                                                                                                                                                                                                                                                                                                                                     |NULL        |Databricks-Runtime/16.4.x-aarch64-photon-scala2.12|\n|9      |2025-07-08 17:45:30|76581437174120|vamsimurthy27@gmail.com|MERGE                            |{predicate -> [\"(product_id#11244 = product_id#10872)\"], clusterBy -> [], matchedPredicates -> [{\"actionType\":\"update\"}], statsOnLoad -> true, notMatchedBySourcePredicates -> [], notMatchedPredicates -> [{\"actionType\":\"insert\"}]} |NULL|NULL    |0708-174450-lwm5m2po-v2n|8          |WriteSerializable|false        |{numTargetRowsCopied -> 0, numTargetRowsDeleted -> 0, numTargetFilesAdded -> 3, numTargetBytesAdded -> 4384, numTargetBytesRemoved -> 0, numTargetDeletionVectorsAdded -> 1, numTargetRowsMatchedUpdated -> 1, executionTimeMs -> 5331, materializeSourceTimeMs -> 393, numTargetRowsInserted -> 2, numTargetRowsMatchedDeleted -> 0, numTargetDeletionVectorsUpdated -> 0, scanTimeMs -> 2075, numTargetRowsUpdated -> 1, numOutputRows -> 3, numTargetDeletionVectorsRemoved -> 0, numTargetRowsNotMatchedBySourceUpdated -> 0, numTargetChangeFilesAdded -> 0, numSourceRows -> 3, numTargetFilesRemoved -> 0, numTargetRowsNotMatchedBySourceDeleted -> 0, rewriteTimeMs -> 2755}   |NULL        |Databricks-Runtime/16.4.x-aarch64-photon-scala2.12|\n|8      |2025-07-08 17:45:21|76581437174120|vamsimurthy27@gmail.com|WRITE                            |{mode -> Append, statsOnLoad -> false, partitionBy -> []}                                                                                                                                                                             |NULL|NULL    |0708-174450-lwm5m2po-v2n|7          |WriteSerializable|true         |{numFiles -> 0, numOutputRows -> 0, numOutputBytes -> 0}                                                                                                                                                                                                                                                                                                                                                                                                                                                                                                                                                                                                                                |NULL        |Databricks-Runtime/16.4.x-aarch64-photon-scala2.12|\n|7      |2025-07-08 17:45:14|76581437174120|vamsimurthy27@gmail.com|CREATE OR REPLACE TABLE AS SELECT|{partitionBy -> [], clusterBy -> [], description -> NULL, isManaged -> true, properties -> {\"delta.enableDeletionVectors\":\"true\"}, statsOnLoad -> false}                                                                              |NULL|NULL    |0708-174450-lwm5m2po-v2n|6          |WriteSerializable|false        |{numFiles -> 1, numRemovedFiles -> 1, numRemovedBytes -> 1743, numOutputRows -> 3, numOutputBytes -> 1355}                                                                                                                                                                                                                                                                                                                                                                                                                                                                                                                                                                              |NULL        |Databricks-Runtime/16.4.x-aarch64-photon-scala2.12|\n|6      |2025-07-08 06:59:13|76581437174120|vamsimurthy27@gmail.com|OPTIMIZE                         |{predicate -> [], auto -> true, clusterBy -> [], zOrderBy -> [], batchId -> 0}                                                                                                                                                        |NULL|NULL    |0708-055637-22jz9xqd-v2n|5          |SnapshotIsolation|false        |{numRemovedFiles -> 4, numRemovedBytes -> 6275, p25FileSize -> 1743, numDeletionVectorsRemoved -> 1, minFileSize -> 1743, numAddedFiles -> 1, maxFileSize -> 1743, p75FileSize -> 1743, p50FileSize -> 1743, numAddedBytes -> 1743}                                                                                                                                                                                                                                                                                                                                                                                                                                                     |NULL        |Databricks-Runtime/16.4.x-aarch64-photon-scala2.12|\n|5      |2025-07-08 06:59:11|76581437174120|vamsimurthy27@gmail.com|MERGE                            |{predicate -> [\"(product_id#14901 = product_id#12099)\"], clusterBy -> [], matchedPredicates -> [{\"actionType\":\"update\"}], statsOnLoad -> false, notMatchedBySourcePredicates -> [], notMatchedPredicates -> [{\"actionType\":\"insert\"}]}|NULL|NULL    |0708-055637-22jz9xqd-v2n|4          |WriteSerializable|false        |{numTargetRowsCopied -> 0, numTargetRowsDeleted -> 0, numTargetFilesAdded -> 3, numTargetBytesAdded -> 4532, numTargetBytesRemoved -> 0, numTargetDeletionVectorsAdded -> 1, numTargetRowsMatchedUpdated -> 4, executionTimeMs -> 2441, materializeSourceTimeMs -> 56, numTargetRowsInserted -> 0, numTargetRowsMatchedDeleted -> 0, numTargetDeletionVectorsUpdated -> 0, scanTimeMs -> 903, numTargetRowsUpdated -> 4, numOutputRows -> 4, numTargetDeletionVectorsRemoved -> 0, numTargetRowsNotMatchedBySourceUpdated -> 0, numTargetChangeFilesAdded -> 0, numSourceRows -> 3, numTargetFilesRemoved -> 0, numTargetRowsNotMatchedBySourceDeleted -> 0, rewriteTimeMs -> 1409}     |NULL        |Databricks-Runtime/16.4.x-aarch64-photon-scala2.12|\n|4      |2025-07-08 06:58:59|76581437174120|vamsimurthy27@gmail.com|WRITE                            |{mode -> Append, statsOnLoad -> false, partitionBy -> []}                                                                                                                                                                             |NULL|NULL    |0708-055637-22jz9xqd-v2n|3          |WriteSerializable|true         |{numFiles -> 0, numOutputRows -> 0, numOutputBytes -> 0}                                                                                                                                                                                                                                                                                                                                                                                                                                                                                                                                                                                                                                |NULL        |Databricks-Runtime/16.4.x-aarch64-photon-scala2.12|\n|3      |2025-07-08 06:33:06|76581437174120|vamsimurthy27@gmail.com|OPTIMIZE                         |{predicate -> [], auto -> true, clusterBy -> [], zOrderBy -> [], batchId -> 0}                                                                                                                                                        |NULL|NULL    |0708-055637-22jz9xqd-v2n|2          |SnapshotIsolation|false        |{numRemovedFiles -> 4, numRemovedBytes -> 5887, p25FileSize -> 1743, numDeletionVectorsRemoved -> 1, minFileSize -> 1743, numAddedFiles -> 1, maxFileSize -> 1743, p75FileSize -> 1743, p50FileSize -> 1743, numAddedBytes -> 1743}                                                                                                                                                                                                                                                                                                                                                                                                                                                     |NULL        |Databricks-Runtime/16.4.x-aarch64-photon-scala2.12|\n|2      |2025-07-08 06:33:02|76581437174120|vamsimurthy27@gmail.com|MERGE                            |{predicate -> [\"(product_id#12340 = product_id#12099)\"], clusterBy -> [], matchedPredicates -> [{\"actionType\":\"update\"}], statsOnLoad -> false, notMatchedBySourcePredicates -> [], notMatchedPredicates -> [{\"actionType\":\"insert\"}]}|NULL|NULL    |0708-055637-22jz9xqd-v2n|1          |WriteSerializable|false        |{numTargetRowsCopied -> 0, numTargetRowsDeleted -> 0, numTargetFilesAdded -> 3, numTargetBytesAdded -> 4532, numTargetBytesRemoved -> 1576, numTargetDeletionVectorsAdded -> 1, numTargetRowsMatchedUpdated -> 4, executionTimeMs -> 6945, materializeSourceTimeMs -> 420, numTargetRowsInserted -> 0, numTargetRowsMatchedDeleted -> 0, numTargetDeletionVectorsUpdated -> 0, scanTimeMs -> 2419, numTargetRowsUpdated -> 4, numOutputRows -> 4, numTargetDeletionVectorsRemoved -> 0, numTargetRowsNotMatchedBySourceUpdated -> 0, numTargetChangeFilesAdded -> 0, numSourceRows -> 3, numTargetFilesRemoved -> 1, numTargetRowsNotMatchedBySourceDeleted -> 0, rewriteTimeMs -> 3950}|NULL        |Databricks-Runtime/16.4.x-aarch64-photon-scala2.12|\n|1      |2025-07-08 06:32:43|76581437174120|vamsimurthy27@gmail.com|WRITE                            |{mode -> Append, statsOnLoad -> false, partitionBy -> []}                                                                                                                                                                             |NULL|NULL    |0708-055637-22jz9xqd-v2n|0          |WriteSerializable|true         |{numFiles -> 1, numOutputRows -> 3, numOutputBytes -> 1576}                                                                                                                                                                                                                                                                                                                                                                                                                                                                                                                                                                                                                             |NULL        |Databricks-Runtime/16.4.x-aarch64-photon-scala2.12|\n|0      |2025-07-08 06:11:04|76581437174120|vamsimurthy27@gmail.com|CREATE OR REPLACE TABLE AS SELECT|{partitionBy -> [], clusterBy -> [], description -> NULL, isManaged -> true, properties -> {\"delta.enableDeletionVectors\":\"true\"}, statsOnLoad -> true}                                                                               |NULL|NULL    |0708-055637-22jz9xqd-v2n|NULL       |WriteSerializable|false        |{numFiles -> 1, numRemovedFiles -> 0, numRemovedBytes -> 0, numOutputRows -> 3, numOutputBytes -> 1355}                                                                                                                                                                                                                                                                                                                                                                                                                                                                                                                                                                                 |NULL        |Databricks-Runtime/16.4.x-aarch64-photon-scala2.12|\n+-------+-------------------+--------------+-----------------------+---------------------------------+--------------------------------------------------------------------------------------------------------------------------------------------------------------------------------------------------------------------------------------+----+--------+------------------------+-----------+-----------------+-------------+----------------------------------------------------------------------------------------------------------------------------------------------------------------------------------------------------------------------------------------------------------------------------------------------------------------------------------------------------------------------------------------------------------------------------------------------------------------------------------------------------------------------------------------------------------------------------------------------------------------------------------------------------------------------------------------+------------+--------------------------------------------------+\n\n"
     ]
    }
   ],
   "source": [
    "spark.sql(\"DESCRIBE HISTORY default.products\").show(truncate=False)\n"
   ]
  },
  {
   "cell_type": "code",
   "execution_count": 0,
   "metadata": {
    "application/vnd.databricks.v1+cell": {
     "cellMetadata": {
      "byteLimit": 2048000,
      "rowLimit": 10000
     },
     "inputWidgets": {},
     "nuid": "8faaa8dc-13b7-4a3f-a1fe-40618cf47c6a",
     "showTitle": false,
     "tableResultSettingsMap": {},
     "title": ""
    }
   },
   "outputs": [
    {
     "output_type": "stream",
     "name": "stdout",
     "output_type": "stream",
     "text": [
      "+----------+----------+-----------+-------+--------+\n|product_id|      name|   category|  price|discount|\n+----------+----------+-----------+-------+--------+\n|      P001|    Laptop|Electronics|1099.99|    50.0|\n|      P004|Headphones|Electronics| 149.99|    10.0|\n|      P005|     Jeans|   Clothing|  59.99|     5.0|\n|      P001|    Laptop|Electronics| 999.99|    NULL|\n|      P002|Smartphone|Electronics| 499.99|    NULL|\n|      P003|   T-Shirt|   Clothing|  29.99|    NULL|\n+----------+----------+-----------+-------+--------+\n\n"
     ]
    }
   ],
   "source": [
    "spark.read.format(\"delta\").option(\"versionAsOf\",1).table(\"default.products\").show()"
   ]
  },
  {
   "cell_type": "code",
   "execution_count": 0,
   "metadata": {
    "application/vnd.databricks.v1+cell": {
     "cellMetadata": {
      "byteLimit": 2048000,
      "rowLimit": 10000
     },
     "inputWidgets": {},
     "nuid": "506179fa-7521-42dd-8440-14fcaacb4286",
     "showTitle": false,
     "tableResultSettingsMap": {},
     "title": ""
    }
   },
   "outputs": [
    {
     "output_type": "stream",
     "name": "stdout",
     "output_type": "stream",
     "text": [
      "+----------+----------+-----------+-------+--------+\n|product_id|      name|   category|  price|discount|\n+----------+----------+-----------+-------+--------+\n|      P001|    Laptop|Electronics|1099.99|    50.0|\n|      P001|    Laptop|Electronics|1099.99|    50.0|\n|      P004|Headphones|Electronics| 149.99|    10.0|\n|      P005|     Jeans|   Clothing|  59.99|     5.0|\n|      P002|Smartphone|Electronics| 499.99|    NULL|\n|      P003|   T-Shirt|   Clothing|  29.99|    NULL|\n+----------+----------+-----------+-------+--------+\n\n"
     ]
    }
   ],
   "source": [
    "spark.read.format(\"delta\").option(\"versionAsOf\",2).table(\"default.products\").show()"
   ]
  },
  {
   "cell_type": "code",
   "execution_count": 0,
   "metadata": {
    "application/vnd.databricks.v1+cell": {
     "cellMetadata": {
      "byteLimit": 2048000,
      "rowLimit": 10000
     },
     "inputWidgets": {},
     "nuid": "56af3927-864e-4c43-8b8b-7b5d58958365",
     "showTitle": false,
     "tableResultSettingsMap": {},
     "title": ""
    }
   },
   "outputs": [
    {
     "output_type": "stream",
     "name": "stdout",
     "output_type": "stream",
     "text": [
      "+----------+----------+-----------+-------+--------+\n|product_id|      name|   category|  price|discount|\n+----------+----------+-----------+-------+--------+\n|      P001|    Laptop|Electronics|1099.99|    50.0|\n|      P002|Smartphone|Electronics| 499.99|    NULL|\n|      P003|   T-Shirt|   Clothing|  29.99|    NULL|\n|      P004|Headphones|Electronics| 149.99|    10.0|\n|      P005|     Jeans|   Clothing|  59.99|     5.0|\n+----------+----------+-----------+-------+--------+\n\n"
     ]
    }
   ],
   "source": [
    "df2 = spark.read.table(\"default.products\")\n",
    "df2.orderBy(\"product_id\").show()"
   ]
  }
 ],
 "metadata": {
  "application/vnd.databricks.v1+notebook": {
   "computePreferences": null,
   "dashboards": [],
   "environmentMetadata": {
    "base_environment": "",
    "environment_version": "2"
   },
   "inputWidgetPreferences": null,
   "language": "python",
   "notebookMetadata": {
    "pythonIndentUnit": 4
   },
   "notebookName": "Untitled Notebook 2025-07-08 11:18:44",
   "widgets": {}
  },
  "language_info": {
   "name": "python"
  }
 },
 "nbformat": 4,
 "nbformat_minor": 0
}