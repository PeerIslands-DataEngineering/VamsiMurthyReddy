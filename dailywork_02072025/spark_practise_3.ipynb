{
 "cells": [
  {
   "cell_type": "code",
   "execution_count": 55,
   "id": "0a3ced43",
   "metadata": {},
   "outputs": [],
   "source": [
    "from pyspark.sql import SparkSession\n",
    "spark = SparkSession.builder.appName(\"UDF and Window Functions\").getOrCreate()\n",
    "sc = spark.sparkContext"
   ]
  },
  {
   "cell_type": "code",
   "execution_count": 56,
   "id": "0e0a4c8f",
   "metadata": {},
   "outputs": [],
   "source": [
    "from pyspark.sql.functions import col,asc,desc,udf,rank,row_number,lag,lead,when,split,trim\n",
    "from pyspark.sql.window import Window\n",
    "from pyspark.sql.types import DoubleType"
   ]
  },
  {
   "cell_type": "code",
   "execution_count": 57,
   "id": "b4486f48",
   "metadata": {},
   "outputs": [],
   "source": [
    "df = spark.read.option(\"header\",True).option(\"inferSchema\",True).csv(r\"C:\\Users\\Admin\\Downloads\\csv_files\\top_100_saas_companies_2025.csv\")"
   ]
  },
  {
   "cell_type": "code",
   "execution_count": null,
   "id": "744129e1",
   "metadata": {},
   "outputs": [
    {
     "data": {
      "text/plain": [
       "[('Company Name', 'string'),\n",
       " ('Founded Year', 'int'),\n",
       " ('HQ', 'string'),\n",
       " ('Industry', 'string'),\n",
       " ('Total Funding', 'string'),\n",
       " ('ARR', 'string'),\n",
       " ('Valuation', 'string'),\n",
       " ('Employees', 'string'),\n",
       " ('Top Investors', 'string'),\n",
       " ('Product', 'string'),\n",
       " ('G2 Rating', 'double')]"
      ]
     },
     "execution_count": 58,
     "metadata": {},
     "output_type": "execute_result"
    }
   ],
   "source": [
    "df.dtypes"
   ]
  },
  {
   "cell_type": "code",
   "execution_count": 59,
   "id": "357c8ba3",
   "metadata": {},
   "outputs": [
    {
     "name": "stdout",
     "output_type": "stream",
     "text": [
      "+------+-------------------+-------------+\n",
      "|   ARR|          Valuation|Total Funding|\n",
      "+------+-------------------+-------------+\n",
      "| $270B|                $3T|          $1B|\n",
      "|$37.9B|            $227.8B|       $65.4M|\n",
      "|$19.4B|              $240B|        $2.5M|\n",
      "|$52.9B|              $350B|          $2K|\n",
      "|$32.5B|              $215B|          N/A|\n",
      "|$14.4B|              $180B|        $273M|\n",
      "| $8.9B|              $147B|       $82.5M|\n",
      "| $7.3B|               $65B|      $249.9M|\n",
      "| $4.5B|               $85B|      $145.5M|\n",
      "| $7.1B|               $95B|      $122.3M|\n",
      "| $3.5B|               $55B|         $60M|\n",
      "| $2.8B|               $75B|        $1.4B|\n",
      "| $2.2B|               $32B|      $100.5M|\n",
      "| $2.5B|               $10B|      $514.3M|\n",
      "| $1.7B|$27.7B (Salesforce)|        $1.4B|\n",
      "| $400M|               $10B|        $353M|\n",
      "| $2.1B|               $44B|      $147.9M|\n",
      "| $1.7B|               $26B|      $311.2M|\n",
      "| $2.2B|               $25B|      $230.5M|\n",
      "| $4.1B|               $12B|      $261.3M|\n",
      "+------+-------------------+-------------+\n",
      "only showing top 20 rows\n",
      "\n"
     ]
    }
   ],
   "source": [
    "# The columns we need to clean\n",
    "\n",
    "df.select(\"ARR\",\"Valuation\",\"Total Funding\").show()"
   ]
  },
  {
   "cell_type": "code",
   "execution_count": 60,
   "id": "2b96db5a",
   "metadata": {},
   "outputs": [],
   "source": [
    "# Problem 1: UDF – Standardize Currency Columns\n",
    "# Title: Preparing Financial Data for Analytics\n",
    "# Scenario: Your financial model requires Valuation, ARR, and Total Funding to be in numeric format, \n",
    "# but they’re stored as strings with “$” and “M”/“B” suffixes.\n",
    "# Task:\n",
    "# Create a UDF that converts values like \"$1.2B\" to 1_200_000_000.0\n",
    "# Apply it to create Valuation_Num, ARR_Num, and Funding_Num columns\n",
    "# Use This For: Enabling numeric analysis, ranking, and aggregation on these fields.\n",
    "\n",
    "\n",
    "def clean_numeric_cols(val):\n",
    "    if val is None or val == \"N/A\":\n",
    "        return 0.0\n",
    "    val = val.replace(\"$\",\"\")\n",
    "    val = val.split(\"(\")[0].strip()\n",
    "    if \"T\" in val:\n",
    "        return float(val.replace(\"T\",\"\")) * 1_000_000_000_000\n",
    "    if \"B\" in val:\n",
    "        return float(val.replace(\"B\",\"\")) * 1_000_000_000 \n",
    "    if \"M\" in val:\n",
    "        return float(val.replace(\"M\",\"\")) * 1_000_000\n",
    "    if \"K\" in val:\n",
    "        return float(val.replace(\"K\",\"\")) * 1_000\n",
    "\n",
    "clean = udf(clean_numeric_cols,DoubleType())\n",
    "\n",
    "df = df.withColumn(\"Valuation_Num\", clean(col(\"Valuation\")))\\\n",
    "           .withColumn(\"ARR_Num\", clean(col(\"ARR\")))\\\n",
    "           .withColumn(\"Total_Funding_Num\", clean(col(\"Total Funding\")))"
   ]
  },
  {
   "cell_type": "code",
   "execution_count": 61,
   "id": "32fb0d83",
   "metadata": {},
   "outputs": [],
   "source": [
    "# We can also clean in this way too...!!!\n",
    "\n",
    "# def clean_numeric_cols(val):\n",
    "#     if val is None or val == \"N/A\":\n",
    "#         return 0.0\n",
    "#     val = val.replace(\"$\", \"\").strip()\n",
    "#     val = val.split(\"(\")[0].strip()\n",
    "#     multiplier = 1\n",
    "#     if val.endswith(\"T\"):\n",
    "#         multiplier = 1_000_000_000_000\n",
    "#         val = val.replace(\"T\", \"\")\n",
    "#     elif val.endswith(\"B\"):\n",
    "#         multiplier = 1_000_000_000\n",
    "#         val = val.replace(\"B\", \"\")\n",
    "#     elif val.endswith(\"M\"):\n",
    "#         multiplier = 1_000_000\n",
    "#         val = val.replace(\"M\", \"\")\n",
    "#     elif val.endswith(\"K\"):\n",
    "#         multiplier = 1_000\n",
    "#         val = val.replace(\"K\", \"\")\n",
    "#     return float(val) * multiplier\n",
    "    \n",
    "# clean = udf(clean_numeric_cols,DoubleType())\n",
    "\n",
    "# df = df.withColumn(\"Valuation_Num\", clean(col(\"Valuation\")))\\\n",
    "    #        .withColumn(\"ARR_Num\", clean(col(\"ARR\")))\\\n",
    "    #        .withColumn(\"Total_Funding_Num\", clean(col(\"Total Funding\")))\n",
    "# df.show()"
   ]
  },
  {
   "cell_type": "code",
   "execution_count": 62,
   "id": "056e91f0",
   "metadata": {},
   "outputs": [
    {
     "name": "stdout",
     "output_type": "stream",
     "text": [
      "+-------------+-------+-------------------+\n",
      "|Valuation_Num|ARR_Num|  Total_Funding_Num|\n",
      "+-------------+-------+-------------------+\n",
      "|       3.0E12| 2.7E11|              1.0E9|\n",
      "|     2.278E11|3.79E10|6.540000000000001E7|\n",
      "|       2.4E11|1.94E10|          2500000.0|\n",
      "+-------------+-------+-------------------+\n",
      "only showing top 3 rows\n",
      "\n"
     ]
    }
   ],
   "source": [
    "df.select(\"Valuation_Num\",\"ARR_Num\",\"Total_Funding_Num\").show(3)"
   ]
  },
  {
   "cell_type": "code",
   "execution_count": 63,
   "id": "cfe5bf03",
   "metadata": {},
   "outputs": [
    {
     "name": "stdout",
     "output_type": "stream",
     "text": [
      "+--------------------+-------+------------+\n",
      "|            Industry|ranking|Company Name|\n",
      "+--------------------+-------+------------+\n",
      "|                 APM|      1| AppDynamics|\n",
      "|                BNPL|      1|      Affirm|\n",
      "|Business Intellig...|      1|      Looker|\n",
      "|               CI/CD|      1|    CircleCI|\n",
      "|                 CRM|      1|  Salesforce|\n",
      "|        Card Issuing|      1|     Marqeta|\n",
      "|      Cloud Security|      1|     Zscaler|\n",
      "|      Cloud Security|      2|    Netskope|\n",
      "|       Cloud Storage|      1|     Dropbox|\n",
      "|       Cloud Storage|      2|         Box|\n",
      "|       Collaboration|      1|        Miro|\n",
      "|Collaboration Sof...|      1|   Atlassian|\n",
      "|      Communications|      1|      Twilio|\n",
      "|      Communications|      2| RingCentral|\n",
      "|        Construction|      1|     Procore|\n",
      "|      Contact Center|      1|       Five9|\n",
      "|     Corporate Cards|      1|        Brex|\n",
      "|   Creative Software|      1|       Adobe|\n",
      "|       Customer Data|      1|     Segment|\n",
      "| Customer Engagement|      1|       Braze|\n",
      "+--------------------+-------+------------+\n",
      "only showing top 20 rows\n",
      "\n"
     ]
    }
   ],
   "source": [
    "# Problem 2: Window Function – Identify Top Performers per Industry\n",
    "# Title: Top 2 Companies by Valuation Within Each Industry\n",
    "# Scenario: Your dashboard highlights the highest-valued SaaS companies within each industry segment.\n",
    "# Task:\n",
    "# Partition by Industry\n",
    "# Order by Valuation_Num (desc)\n",
    "# Use rank() to assign rankings\n",
    "# Return only top 2 ranked companies per industry\n",
    "\n",
    "window_spec = Window.partitionBy(\"Industry\").orderBy(col(\"Valuation_Num\").desc())\n",
    "df = df.withColumn(\"ranking\",rank().over(window_spec))\n",
    "df.filter(col(\"ranking\") <= 2).select(\"Industry\",\"ranking\",\"Company Name\").show()\n",
    "\n"
   ]
  },
  {
   "cell_type": "code",
   "execution_count": 64,
   "id": "0f9c46e2",
   "metadata": {},
   "outputs": [
    {
     "name": "stdout",
     "output_type": "stream",
     "text": [
      "+-------------------+------------+-------+--------------------+\n",
      "|           Industry|Company Name|ARR_Num|      ARR_Difference|\n",
      "+-------------------+------------+-------+--------------------+\n",
      "|     Cloud Security|    Netskope|  5.0E8|              -1.1E9|\n",
      "|      Cloud Storage|         Box|  1.0E9|              -1.5E9|\n",
      "|     Communications| RingCentral|  2.2E9|-1.89999999999999...|\n",
      "|Customer Engagement|       Braze|  4.2E8|             -1.76E8|\n",
      "|      Cybersecurity| CrowdStrike|  3.1E9|              -4.4E9|\n",
      "|     Data Analytics|    Palantir|  2.2E9|              -1.5E9|\n",
      "|           Database|       Redis|  1.0E8|              -1.6E9|\n",
      "|             Design|       Figma|  6.0E8|              -1.4E9|\n",
      "|             DevOps|       JFrog| 2.65E8|             -3.15E8|\n",
      "|Enterprise Software|         SAP|3.25E10|           -2.375E11|\n",
      "|           Payments|      Stripe| 1.4E10|              -5.7E9|\n",
      "|  Product Analytics|    Mixpanel|  1.0E8|             -1.33E8|\n",
      "|   Sales Engagement|   Salesloft|  2.0E8|                 0.0|\n",
      "|    Work Management|  Monday.com| 7.36E8|             -1.44E8|\n",
      "|    Work Management|       Asana| 6.52E8|              -8.4E7|\n",
      "+-------------------+------------+-------+--------------------+\n",
      "\n"
     ]
    }
   ],
   "source": [
    "# Problem 3: Window Function – ARR Growth Gaps\n",
    "# Title: Understand Revenue Distribution Among Competitors\n",
    "# Scenario: You’re analyzing how ARR drops off between market leaders and followers in each industry.\n",
    "# Task:\n",
    "# Partition by Industry and order by ARR_Num (desc)\n",
    "# Use lag() to compute ARR_Difference with the previous company\n",
    "# Show companies where this drop exceeds 1 billion USD\n",
    "\n",
    "window_arr = Window.partitionBy(\"Industry\").orderBy(col(\"ARR_Num\").desc())\n",
    "df = df.withColumn(\"ARR_Difference\", col(\"ARR_Num\") - lag(col(\"ARR_Num\")).over(window_arr))\n",
    "df.filter(col(\"ARR_Difference\") <= 1000000000).select(\"Industry\",\"Company Name\",\"ARR_Num\",\"ARR_Difference\",).show()\n"
   ]
  },
  {
   "cell_type": "code",
   "execution_count": 65,
   "id": "b5da0b1f",
   "metadata": {},
   "outputs": [
    {
     "name": "stdout",
     "output_type": "stream",
     "text": [
      "+--------------------+------------+---------+-----------+\n",
      "|            Industry|Company Name|G2 Rating|Rating Tier|\n",
      "+--------------------+------------+---------+-----------+\n",
      "| Enterprise Software|   Microsoft|      4.4|  Very Good|\n",
      "|                 CRM|  Salesforce|      4.3|  Very Good|\n",
      "|   Creative Software|       Adobe|      4.5|  Very Good|\n",
      "|Database & Enterp...|      Oracle|      4.0|       Good|\n",
      "| Enterprise Software|         SAP|      4.1|       Good|\n",
      "|  Financial Software|      Intuit|      4.4|  Very Good|\n",
      "|IT Service Manage...|  ServiceNow|      4.4|  Very Good|\n",
      "|        HR & Finance|     Workday|      4.2|       Good|\n",
      "|Video Communications|        Zoom|      4.5|  Very Good|\n",
      "|          E-commerce|     Shopify|      4.4|  Very Good|\n",
      "|Collaboration Sof...|   Atlassian|      4.3|  Very Good|\n",
      "|    Data Warehousing|   Snowflake|      4.4|  Very Good|\n",
      "|   Marketing & Sales|     HubSpot|      4.4|  Very Good|\n",
      "|  Digital Agreements|    DocuSign|      4.5|  Very Good|\n",
      "|  Team Communication|       Slack|      4.5|  Very Good|\n",
      "|        Productivity|      Notion|      4.7|  Excellent|\n",
      "|Monitoring & Anal...|     Datadog|      4.4|  Very Good|\n",
      "|            Database|     MongoDB|      4.5|  Very Good|\n",
      "| Identity Management|        Okta|      4.4|  Very Good|\n",
      "|      Communications|      Twilio|      4.3|  Very Good|\n",
      "+--------------------+------------+---------+-----------+\n",
      "only showing top 20 rows\n",
      "\n"
     ]
    }
   ],
   "source": [
    "# Problem 4: CASE WHEN – Label Companies by G2 Rating\n",
    "# Title: Classify Companies Based on User Sentiment\n",
    "# Scenario: Your company wants to group products into buckets based on their G2 ratings.\n",
    "# Task:\n",
    "# Create a column Rating_Tier with:\n",
    "# Excellent (≥ 4.7)\n",
    "# Very Good (4.3 to < 4.7)\n",
    "# Good (4.0 to < 4.3)\n",
    "# Average (< 4.0)\n",
    "\n",
    "\n",
    "df = df.withColumn(\"Rating Tier\",when(col(\"G2 Rating\") >= 4.7, \"Excellent\")\\\n",
    "              .when((col(\"G2 Rating\") >= 4.3) & (col(\"G2 Rating\") < 4.7),\"Very Good\")\\\n",
    "              .when((col(\"G2 Rating\") >= 4.0) & (col(\"G2 rating\") < 4.3),\"Good\")\\\n",
    "              .otherwise(\"Average\"))\n",
    "\n",
    "df.select(\"Industry\",\"Company Name\",\"G2 Rating\",\"Rating Tier\").show()"
   ]
  },
  {
   "cell_type": "code",
   "execution_count": 66,
   "id": "661878ec",
   "metadata": {},
   "outputs": [
    {
     "name": "stdout",
     "output_type": "stream",
     "text": [
      "+-------------------+------+\n",
      "|           Investor|  Tier|\n",
      "+-------------------+------+\n",
      "|              Accel|Tier 1|\n",
      "|            Sequoia|Tier 1|\n",
      "|Andreessen Horowitz|Tier 1|\n",
      "|           SoftBank|Tier 2|\n",
      "|         Lightspeed|Tier 2|\n",
      "|            Unknown|Tier 3|\n",
      "+-------------------+------+\n",
      "\n",
      "+----------------------------+-------------+\n",
      "|Top Investors               |Valuation_Num|\n",
      "+----------------------------+-------------+\n",
      "|Accel, Salesforce Ventures  |2.3E9        |\n",
      "|Accel, DFJ, Greylock        |2.3E9        |\n",
      "|Accel, GV, Kleiner Perkins  |3.2E9        |\n",
      "|Accel, Sequoia Capital India|5.2E9        |\n",
      "|Accel, Andreessen Horowitz  |2.77E10      |\n",
      "|Sequoia, Lightspeed         |7.5E9        |\n",
      "|Sequoia, Felicis            |3.2E9        |\n",
      "|Sequoia, Coatue, Thrive     |7.3E9        |\n",
      "|Sequoia, Accel, Insight     |1.25E10      |\n",
      "|Sequoia, Khosla, Scale      |5.0E9        |\n",
      "|Sequoia, Greylock           |9.5E10       |\n",
      "|Sequoia, IVP, Battery       |4.0E9        |\n",
      "|Sequoia, Benchmark, Index   |9.1E9        |\n",
      "|Sequoia, Accel, IVP         |7.0E9        |\n",
      "|Sequoia, Accel, Index       |8.5E9        |\n",
      "|Sequoia, Bessemer, Bond     |4.0E10       |\n",
      "|Sequoia, Andreessen Horowitz|6.5E10       |\n",
      "|Sequoia, NEA, USV           |2.6E10       |\n",
      "|Sequoia, ICONIQ, Altimeter  |7.5E10       |\n",
      "|Andreessen Horowitz, IVP    |9.5E9        |\n",
      "+----------------------------+-------------+\n",
      "only showing top 20 rows\n",
      "\n"
     ]
    }
   ],
   "source": [
    "# Problem 5: Join – Investor Tier Enrichment\n",
    "# Title: Understand Impact of Tier-1 Investors\n",
    "# Extra Table:\n",
    "# investor_tiers = spark.createDataFrame([\n",
    "#     (\"Accel\", \"Tier 1\"),\n",
    "#     (\"Sequoia\", \"Tier 1\"),\n",
    "#     (\"Andreessen Horowitz\", \"Tier 1\"),\n",
    "#     (\"SoftBank\", \"Tier 2\"),\n",
    "#     (\"Lightspeed\", \"Tier 2\"),\n",
    "#     (\"Unknown\", \"Tier 3\")\n",
    "# ], [\"Investor\", \"Tier\"])\n",
    "# Scenario: You want to analyze companies backed by top-tier investors.\n",
    "# Task:\n",
    "# Extract the first investor from Top Investors\n",
    "# Join with investor_tiers on investor name\n",
    "# Show companies with Tier 1 and Tier 2 investors, and their valuation\n",
    "\n",
    "data_a =[\n",
    "    (\"Accel\", \"Tier 1\"),\n",
    "    (\"Sequoia\", \"Tier 1\"),\n",
    "    (\"Andreessen Horowitz\", \"Tier 1\"),\n",
    "    (\"SoftBank\", \"Tier 2\"),\n",
    "    (\"Lightspeed\", \"Tier 2\"),\n",
    "    (\"Unknown\", \"Tier 3\")\n",
    "]\n",
    "columns_a = [\"Investor\",\"Tier\"]\n",
    "\n",
    "df_investor_tiers = spark.createDataFrame(data_a,columns_a)\n",
    "df_investor_tiers.show()\n",
    "\n",
    "df = df.withColumn(\"First_Investor\",trim(split(col(\"Top Investors\"),\",\").getItem(0)))\n",
    "df_joined = df.join(df_investor_tiers, on=df[\"First_Investor\"] == df_investor_tiers[\"Investor\"], how=\"inner\")\n",
    "df_top_tier_investors = df_joined.filter(col(\"Tier\").isin(\"Tier 1\", \"Tier 2\")).select(\"Top Investors\", \"Valuation_Num\")\n",
    "df_top_tier_investors.show(20,truncate=False)\n",
    "\n",
    "\n"
   ]
  },
  {
   "cell_type": "code",
   "execution_count": 67,
   "id": "894db6f3",
   "metadata": {},
   "outputs": [
    {
     "name": "stdout",
     "output_type": "stream",
     "text": [
      "+-------------------+----------------+\n",
      "|       Industry_key|Median_Valuation|\n",
      "+-------------------+----------------+\n",
      "|Enterprise Software|    150000000000|\n",
      "|                CRM|    100000000000|\n",
      "|                 AI|     70000000000|\n",
      "|             HRTech|     50000000000|\n",
      "+-------------------+----------------+\n",
      "\n",
      "+------------+-------------------+-------------+----------------+------------------+\n",
      "|Company Name|           Industry|Valuation_Num|Median_Valuation|Valuation_Position|\n",
      "+------------+-------------------+-------------+----------------+------------------+\n",
      "|         SAP|Enterprise Software|      2.15E11|    150000000000|      Above Median|\n",
      "|   Microsoft|Enterprise Software|       3.0E12|    150000000000|      Above Median|\n",
      "|  Salesforce|                CRM|     2.278E11|    100000000000|      Above Median|\n",
      "+------------+-------------------+-------------+----------------+------------------+\n",
      "\n"
     ]
    }
   ],
   "source": [
    "# Problem 6: Join – Compare with Industry Median\n",
    "# Title: Classify Companies Based on Valuation Position\n",
    "# Extra Table:\n",
    "# industry_medians = spark.createDataFrame([\n",
    "#     (\"Enterprise Software\", 150_000_000_000),\n",
    "#     (\"CRM\", 100_000_000_000),\n",
    "#     (\"AI\", 70_000_000_000),\n",
    "#     (\"HRTech\", 50_000_000_000),\n",
    "# ], [\"Industry\", \"Median_Valuation\"])\n",
    "# Scenario: The board wants to see which companies are outperforming or underperforming relative to their industry’s median valuation.\n",
    "# Task:\n",
    "# - Join with industry_medians on Industry\n",
    "# - Create a column Valuation_Position with:\n",
    "# -\tAbove Median if Valuation > median\n",
    "# -\tBelow Median otherwise\n",
    "\n",
    "\n",
    "data_b = [\n",
    "    (\"Enterprise Software\", 150_000_000_000),\n",
    "    (\"CRM\", 100_000_000_000),\n",
    "    (\"AI\", 70_000_000_000),\n",
    "    (\"HRTech\", 50_000_000_000),\n",
    "]\n",
    "columns_b = [\"Industry_key\", \"Median_Valuation\"]\n",
    "\n",
    "df_industry_medians = spark.createDataFrame(data_b, columns_b)\n",
    "df_industry_medians.show()\n",
    "\n",
    "df_joined_i_m = df.join(df_industry_medians,on=df[\"Industry\"] == df_industry_medians[\"Industry_Key\"],how=\"inner\")\n",
    "df = df_joined_i_m.withColumn(\"Valuation_Position\",when(col(\"Valuation_Num\") > col(\"Median_Valuation\"),\"Above Median\")\\\n",
    "                                                .otherwise(\"Below_Median\"))\n",
    "df.select(\"Company Name\", \"Industry\", \"Valuation_Num\", \"Median_Valuation\", \"Valuation_Position\").show()\n"
   ]
  },
  {
   "cell_type": "code",
   "execution_count": 68,
   "id": "2c0052ef",
   "metadata": {},
   "outputs": [],
   "source": [
    "sc.stop()"
   ]
  }
 ],
 "metadata": {
  "kernelspec": {
   "display_name": "base",
   "language": "python",
   "name": "python3"
  },
  "language_info": {
   "codemirror_mode": {
    "name": "ipython",
    "version": 3
   },
   "file_extension": ".py",
   "mimetype": "text/x-python",
   "name": "python",
   "nbconvert_exporter": "python",
   "pygments_lexer": "ipython3",
   "version": "3.9.16"
  }
 },
 "nbformat": 4,
 "nbformat_minor": 5
}
